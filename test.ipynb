{
 "cells": [
  {
   "cell_type": "code",
   "execution_count": 1,
   "metadata": {},
   "outputs": [
    {
     "name": "stdout",
     "output_type": "stream",
     "text": [
      "pygame 2.6.1 (SDL 2.28.4, Python 3.10.12)\n",
      "Hello from the pygame community. https://www.pygame.org/contribute.html\n"
     ]
    }
   ],
   "source": [
    "import numpy as np\n",
    "import cv2 as cv\n",
    "import pygame\n",
    "from ParticleFilter import ParticleFilter as pf\n",
    "\n",
    "from filterpy.monte_carlo import systematic_resample\n",
    "from numpy.random import randn, uniform\n",
    "from math import dist\n",
    "from fov_utils import fov_utils as fov\n",
    "from main import simulation\n",
    "from Line import Line"
   ]
  },
  {
   "cell_type": "code",
   "execution_count": 7,
   "metadata": {},
   "outputs": [
    {
     "data": {
      "text/plain": [
       "np.float64(-90.0)"
      ]
     },
     "execution_count": 7,
     "metadata": {},
     "output_type": "execute_result"
    }
   ],
   "source": [
    "np.rad2deg(-np.pi/2)"
   ]
  },
  {
   "cell_type": "code",
   "execution_count": 5,
   "metadata": {},
   "outputs": [
    {
     "name": "stdout",
     "output_type": "stream",
     "text": [
      "2.0\n",
      "0.0\n"
     ]
    }
   ],
   "source": [
    "line = Line([0,2,2,2])\n",
    "\n",
    "print(line.length)\n",
    "print(line.slope)"
   ]
  },
  {
   "cell_type": "code",
   "execution_count": null,
   "metadata": {},
   "outputs": [
    {
     "name": "stdout",
     "output_type": "stream",
     "text": [
      "0.25\n"
     ]
    }
   ],
   "source": [
    "p1 = np.asarray([0,4])\n",
    "p2 = np.asarray([3,0])\n",
    "p3 = np.asarray([-5,5])\n",
    "\n",
    "d = np.abs(np.cross(p2-p1, p1-p3))/np.linalg.norm(p2-p1)\n",
    "print(d)\n",
    "dist = np.linalg.norm(p1-p2)\n",
    "print(dist)\n",
    "print(p3[0])"
   ]
  },
  {
   "cell_type": "code",
   "execution_count": null,
   "metadata": {},
   "outputs": [
    {
     "name": "stdout",
     "output_type": "stream",
     "text": [
      "245.0\n",
      "245\n",
      "245.0\n"
     ]
    }
   ],
   "source": [
    "line  = [430, 394, 675, 394]\n",
    "print(cv.norm((line[0],line[1]), (line[2],line[3])))\n",
    "\n",
    "dist = dist([line[0],line[1]], [line[2],line[3]])\n",
    "print(dist)\n",
    "# Rho = (x1 * y2 - x2 * y1) / Len"
   ]
  },
  {
   "cell_type": "code",
   "execution_count": 2,
   "metadata": {},
   "outputs": [
    {
     "data": {
      "text/plain": [
       "array([[1292.86077056,  367.98774455,  102.54609579],\n",
       "       [ 361.4966039 ,  571.5052983 ,   35.06821724],\n",
       "       [ 115.6133719 ,  798.36394839,  267.5351174 ],\n",
       "       [ 729.96730196,   61.55245696,   34.21392328],\n",
       "       [ 355.13092373,  631.91239518,   35.61506288],\n",
       "       [  28.78309418,  320.28478666,   74.69326162],\n",
       "       [ 407.99667444,  702.64450544,  224.17466913],\n",
       "       [1178.70025755,  595.88176208,  179.74713829],\n",
       "       [ 678.34996364,  590.53872449,  311.2610805 ],\n",
       "       [1053.62099069,  426.62928526,   76.5577612 ],\n",
       "       [1137.03275515,  256.6112312 ,  352.55408789],\n",
       "       [ 422.74832921,  701.34101477,  187.07777513],\n",
       "       [  93.75144784,  202.86163971,  325.41914605],\n",
       "       [ 207.09810121,  529.87034321,  222.53518308],\n",
       "       [ 181.82379529,   32.28557323,  103.89593143],\n",
       "       [  69.85494001,  326.29845251,  258.00349951],\n",
       "       [ 459.34031215,  390.51752711,  173.06051895],\n",
       "       [ 351.66030149,  256.97147905,  135.92061976],\n",
       "       [1258.17391395,  575.29095364,    5.48811644],\n",
       "       [ 516.02693468,  240.35329226,  301.29617835],\n",
       "       [ 858.72184986,  579.12562997,  294.94901614],\n",
       "       [1061.6655993 ,  689.18277582,  295.42782506],\n",
       "       [1153.74803254,  358.65242885,   16.56252291],\n",
       "       [ 934.29781254,  482.27183644,  220.80955802],\n",
       "       [ 422.98178075,   75.42848698,  226.72549056],\n",
       "       [ 804.21099455,   63.17248073,  153.91301908],\n",
       "       [ 650.3654977 ,  681.26759693,    1.33185723],\n",
       "       [ 805.63077167,  369.87790868,    5.02953388],\n",
       "       [ 318.72696183,  160.86747059,  181.92863498],\n",
       "       [1027.64540094,   10.01809992,  155.53752926],\n",
       "       [ 135.36124367,    5.96296094,  178.44638281],\n",
       "       [ 243.90987699,  401.1028707 ,  326.02034009],\n",
       "       [ 223.84920879,  752.89192774,  135.95090307],\n",
       "       [ 510.98446479,  690.86493215,  200.38953691],\n",
       "       [1226.58521021,  559.21451431,  279.03486854],\n",
       "       [ 833.71284945,   70.30414188,   71.67077444],\n",
       "       [ 479.35156754,  712.81181953,  326.5665739 ],\n",
       "       [1220.35464515,  127.54402052,  199.06310153],\n",
       "       [ 785.62458172,  310.19401463,  141.43714309],\n",
       "       [1298.09378465,  395.16717679,  119.40943988],\n",
       "       [ 318.14208787,  563.11855844,  345.64057944],\n",
       "       [ 179.70889252,  732.92855032,  345.61947226],\n",
       "       [ 676.97260694,   17.38906662,  230.24913805],\n",
       "       [ 424.40504732,  416.11117377,   77.84275005],\n",
       "       [ 845.42584858,  209.92073397,   28.72198109],\n",
       "       [ 940.84477277,  542.34328746,  351.07861664],\n",
       "       [1171.68403593,  669.1159553 ,  282.32685932],\n",
       "       [ 703.17679773,  449.64620991,   93.19431909],\n",
       "       [1187.46972608,  180.90203099,  295.33256217],\n",
       "       [ 792.9325916 ,  372.31351332,  295.3677542 ],\n",
       "       [ 150.68663492,  679.01739071,  147.33703738],\n",
       "       [  84.61384167,  220.33329574,  230.01589696],\n",
       "       [ 584.09122506,  447.86340905,  104.52319839],\n",
       "       [ 802.59501153,  144.3871511 ,   19.90576667],\n",
       "       [ 836.41380311,  601.60429177,   58.72684261],\n",
       "       [ 358.63067366,  135.75667267,  306.53400183],\n",
       "       [ 698.79931347,  542.60299833,  158.15388239],\n",
       "       [1270.77986999,  302.51196019,  326.45883397],\n",
       "       [  26.17118311,  115.03387654,  293.64175594],\n",
       "       [ 603.47458219,  625.73672079,  168.50416631],\n",
       "       [ 706.08942572,  171.57529619,  216.07839342],\n",
       "       [ 831.73962468,  125.22433354,   73.97772207],\n",
       "       [ 830.07751473,  677.1832103 ,   12.67632909],\n",
       "       [  53.05442879,  272.48675985,  211.06963831],\n",
       "       [1297.18570944,  190.11003002,  267.52517608],\n",
       "       [ 404.16639374,  633.01662016,   67.72190287],\n",
       "       [ 281.29168701,  396.24262054,  277.53393198],\n",
       "       [ 587.260591  ,  771.5769642 ,    1.5381542 ],\n",
       "       [ 627.02804147,  544.01391684,  201.58445963],\n",
       "       [ 840.54570605,  620.90520829,  147.89631232],\n",
       "       [ 213.83783128,  279.89894749,  268.86578031],\n",
       "       [1057.17224785,  297.06524368,  147.51049957],\n",
       "       [ 566.93289493,  139.02731532,   45.60965863],\n",
       "       [ 966.66769332,  461.87834028,   13.21073589],\n",
       "       [ 622.1299822 ,  404.67259973,   54.21814152],\n",
       "       [ 566.66010873,  281.87287997,   21.25349854],\n",
       "       [1141.67924519,  768.87327181,  224.72364167],\n",
       "       [  17.32246251,  750.90337531,  289.88945039],\n",
       "       [ 689.59366696,  142.07669292,  346.95936417],\n",
       "       [ 366.86989486,   15.78847787,  172.92096087],\n",
       "       [ 971.76587237,  567.24490639,  158.18568001],\n",
       "       [1247.20782365,  271.37093223,  121.31704356],\n",
       "       [ 200.26365258,   76.05367622,  254.25442288],\n",
       "       [ 953.0798379 ,  599.02068584,  206.49878158],\n",
       "       [ 349.38979741,  649.76677599,   50.20802143],\n",
       "       [ 867.95464855,  112.53245279,  286.08507384],\n",
       "       [1138.33086436,  269.60059905,  248.33366215],\n",
       "       [ 827.31081559,  405.56559649,   31.65446311],\n",
       "       [1040.55868979,  783.17333404,   95.5566418 ],\n",
       "       [ 207.12610637,  640.70003861,  336.26426717],\n",
       "       [ 550.40135666,  520.46925482,  290.57892928],\n",
       "       [ 779.63057079,  409.71311212,   45.36010777],\n",
       "       [1162.37569619,  253.41337239,  124.0026135 ],\n",
       "       [ 502.47945256,  444.77998535,   78.12095813],\n",
       "       [ 698.30052125,  244.99917536,  287.42410256],\n",
       "       [1268.45259997,  194.61367612,  197.92316991],\n",
       "       [ 989.55118095,  486.134833  ,  102.0004233 ],\n",
       "       [ 547.38673626,  464.27983652,  183.76830683],\n",
       "       [ 167.58569235,  504.63931658,    7.01917382],\n",
       "       [ 370.48275016,  412.39458195,   81.68973186]])"
      ]
     },
     "execution_count": 2,
     "metadata": {},
     "output_type": "execute_result"
    }
   ],
   "source": [
    "N = 100\n",
    "particles = np.empty((N, 3))\n",
    "particles[:, 0] = uniform(0, 1300, size=N)\n",
    "particles[:, 1] = uniform(0, 800, size=N)\n",
    "particles[:, 2] = uniform(0, 360, size=N)\n",
    "particles"
   ]
  },
  {
   "cell_type": "code",
   "execution_count": 24,
   "metadata": {},
   "outputs": [],
   "source": [
    "\n",
    "player_initial_x_deviation = 100 #Centimeters\n",
    "player_initial_y_deviation = 100 #Centimeters\n",
    "player_initial_angle_deviation = 10 #Degrees\n",
    "standardDeviation = [player_initial_x_deviation,player_initial_y_deviation,player_initial_angle_deviation]\n",
    "\n",
    "field_cv = cv.imread(\"images/soccer_field.jpg\")\n",
    "fov_max_range = 500 #centimeters\n",
    "fov_min_range = 50 #centimeters\n",
    "fov_angle = 87 #degrees\n",
    "\n",
    "def create_gaussian_particles(N,initial_position = [0,0,0]):\n",
    "    particles = np.empty((N, 3))\n",
    "    particles[:, 0] = initial_position[0] + (randn(N) * standardDeviation[0])\n",
    "    particles[:, 1] = initial_position[1] + (randn(N) * standardDeviation[1])\n",
    "    particles[:, 2] = initial_position[2] + (randn(N) * standardDeviation[2])\n",
    "    particles[:, 2] += 360\n",
    "    particles[:, 2] %= 360\n",
    "    return particles.astype(int)\n",
    "\n",
    "particles = create_gaussian_particles(N = 10)"
   ]
  },
  {
   "cell_type": "code",
   "execution_count": 25,
   "metadata": {},
   "outputs": [
    {
     "data": {
      "text/plain": [
       "array([[  -9,   41,  345],\n",
       "       [ -87,  -74,  353],\n",
       "       [-206,  173,    1],\n",
       "       [  96,   66,  342],\n",
       "       [ -49,   34,    7],\n",
       "       [  79, -203,  344],\n",
       "       [ -28,  -86,    3],\n",
       "       [  59,  -97,    3],\n",
       "       [  28,   94,   11],\n",
       "       [  30, -125,    9]])"
      ]
     },
     "execution_count": 25,
     "metadata": {},
     "output_type": "execute_result"
    }
   ],
   "source": [
    "particles"
   ]
  },
  {
   "cell_type": "code",
   "execution_count": 32,
   "metadata": {},
   "outputs": [
    {
     "data": {
      "text/plain": [
       "array([-2.58819045, -1.21869343,  0.17452406, -3.09016994,  1.21869343,\n",
       "       -2.75637356,  0.52335956,  0.52335956,  1.90808995,  1.56434465])"
      ]
     },
     "execution_count": 32,
     "metadata": {},
     "output_type": "execute_result"
    }
   ],
   "source": [
    "(np.sin(np.radians(particles[:,2])))*10"
   ]
  },
  {
   "cell_type": "code",
   "execution_count": 33,
   "metadata": {},
   "outputs": [
    {
     "data": {
      "text/plain": [
       "array([0.9292214 , 1.03803735, 0.87310792, 0.9581732 , 1.20683914,\n",
       "       1.13019259, 0.92225491, 0.88785863, 1.00939739, 1.02647999])"
      ]
     },
     "execution_count": 33,
     "metadata": {},
     "output_type": "execute_result"
    }
   ],
   "source": [
    "(1 + randn(10) * 0.1)"
   ]
  },
  {
   "cell_type": "code",
   "execution_count": 65,
   "metadata": {},
   "outputs": [
    {
     "data": {
      "text/plain": [
       "array([[  -9,  110,  345],\n",
       "       [ -87,  -44,  353],\n",
       "       [-206,  173,    1],\n",
       "       [  96,  149,  342],\n",
       "       [ -49,    3,    7],\n",
       "       [  79, -134,  344],\n",
       "       [ -28,  -86,    3],\n",
       "       [  59,  -97,    3],\n",
       "       [  28,   50,   11],\n",
       "       [  30, -157,    9]])"
      ]
     },
     "execution_count": 65,
     "metadata": {},
     "output_type": "execute_result"
    }
   ],
   "source": [
    "\n",
    "particles[:,1] -= np.multiply((np.sin(np.radians(particles[:,2])) * 10 * 1),(1 + randn(10) * 0.1)).astype(int)\n",
    "particles"
   ]
  },
  {
   "cell_type": "code",
   "execution_count": 15,
   "metadata": {},
   "outputs": [],
   "source": [
    "player_initial_x = 200\n",
    "player_initial_y = 300\n",
    "player_initial_angle = 0\n",
    "player_initial_x = 200\n",
    "player_initial_y = 300\n",
    "player_initial_angle = 0\n",
    "player_pos = pygame.Vector2(player_initial_x, player_initial_y)\n",
    "robot_fov = fov.get_particle_pov(field_cv, player_pos[0], player_pos[1], player_initial_angle, fov_angle, fov_min_range, fov_max_range, low_res = True)\n"
   ]
  },
  {
   "cell_type": "code",
   "execution_count": 16,
   "metadata": {},
   "outputs": [],
   "source": [
    "def test_func(particle):\n",
    "    particle_pov = fov.get_particle_pov(field_cv, particle[0], particle[1], particle[2], fov_angle, fov_min_range, fov_max_range, low_res = True)\n",
    "    diff = 1/(np.sum(np.abs(np.subtract(robot_fov,particle_pov))))\n",
    "    return diff"
   ]
  },
  {
   "cell_type": "code",
   "execution_count": 17,
   "metadata": {},
   "outputs": [
    {
     "name": "stdout",
     "output_type": "stream",
     "text": [
      "<class 'list'>\n",
      "<class 'numpy.float64'>\n"
     ]
    }
   ],
   "source": [
    "result1 = list(np.apply_along_axis(test_func,1,particles))\n",
    "print(type(result1))\n",
    "print(type(result1[0]))"
   ]
  },
  {
   "cell_type": "code",
   "execution_count": 18,
   "metadata": {},
   "outputs": [
    {
     "name": "stdout",
     "output_type": "stream",
     "text": [
      "<class 'list'>\n",
      "<class 'numpy.float64'>\n"
     ]
    }
   ],
   "source": [
    "result2 = []\n",
    "for particle in particles:\n",
    "    diff = test_func(particle)\n",
    "    result2.append(diff)\n",
    "\n",
    "print(type(result2))\n",
    "print(type(result2[0]))"
   ]
  },
  {
   "cell_type": "code",
   "execution_count": 19,
   "metadata": {},
   "outputs": [
    {
     "name": "stdout",
     "output_type": "stream",
     "text": [
      "<class 'list'>\n",
      "<class 'numpy.float64'>\n"
     ]
    }
   ],
   "source": [
    "result3 = list(map(test_func,particles))\n",
    "print(type(result3))\n",
    "print(type(result3[0]))"
   ]
  },
  {
   "cell_type": "code",
   "execution_count": 20,
   "metadata": {},
   "outputs": [
    {
     "data": {
      "text/plain": [
       "100"
      ]
     },
     "execution_count": 20,
     "metadata": {},
     "output_type": "execute_result"
    }
   ],
   "source": [
    "len(np.multiply(result1,result2))"
   ]
  }
 ],
 "metadata": {
  "kernelspec": {
   "display_name": "Python 3",
   "language": "python",
   "name": "python3"
  },
  "language_info": {
   "codemirror_mode": {
    "name": "ipython",
    "version": 3
   },
   "file_extension": ".py",
   "mimetype": "text/x-python",
   "name": "python",
   "nbconvert_exporter": "python",
   "pygments_lexer": "ipython3",
   "version": "3.10.12"
  }
 },
 "nbformat": 4,
 "nbformat_minor": 2
}
